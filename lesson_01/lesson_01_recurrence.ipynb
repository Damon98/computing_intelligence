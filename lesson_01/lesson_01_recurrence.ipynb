{
 "cells": [
  {
   "cell_type": "markdown",
   "metadata": {},
   "source": [
    "## 1+2 \n"
   ]
  },
  {
   "cell_type": "code",
   "execution_count": 76,
   "metadata": {
    "pycharm": {
     "is_executing": false
    }
   },
   "outputs": [
    {
     "data": {
      "text/plain": "3"
     },
     "metadata": {},
     "output_type": "execute_result",
     "execution_count": 76
    }
   ],
   "source": [
    "import random\n",
    "1+2"
   ]
  },
  {
   "cell_type": "markdown",
   "metadata": {},
   "source": [
    "## 我们的first标题"
   ]
  },
  {
   "cell_type": "code",
   "execution_count": 77,
   "metadata": {
    "pycharm": {
     "is_executing": false
    }
   },
   "outputs": [
    {
     "name": "stdout",
     "text": [
      "0\n1\n2\n3\n4\n"
     ],
     "output_type": "stream"
    }
   ],
   "source": [
    "for i in range(5):\n",
    "    print(i)"
   ]
  },
  {
   "cell_type": "markdown",
   "metadata": {},
   "source": [
    "$$int_0^{+infty} x^2 dx$$"
   ]
  },
  {
   "cell_type": "markdown",
   "metadata": {},
   "source": [
    "$$ Pr(sentence) = Pr(w_1 \\cdot w_2 \\cdots w_n) = \\prod \\frac{count(w_i, w_{i+1})}{count(w_i)}$$"
   ]
  },
  {
   "cell_type": "code",
   "execution_count": 78,
   "metadata": {
    "pycharm": {
     "is_executing": false
    }
   },
   "outputs": [],
   "source": [
    "STR_PATH = '/Users/damon/computing-intelligence-kkb/lesson_01/article_9k.txt'\n",
    "max_length = 100\n",
    "with open(STR_PATH,'r') as f:\n",
    "    FILE = f.read()"
   ]
  },
  {
   "cell_type": "code",
   "execution_count": 79,
   "outputs": [
    {
     "data": {
      "text/plain": "'此外自本周6月12日起除小米手机6等15款机型外其余机型已暂停更新发布含开发版体验版内测稳定版暂不受影响以确保工程师可以集中全部精力进行系统优化工作有人猜测这也是将精力主要用到MIUI9的研发之中MI'"
     },
     "metadata": {},
     "output_type": "execute_result",
     "execution_count": 79
    }
   ],
   "source": [
    "FILE[:100]"
   ],
   "metadata": {
    "collapsed": false,
    "pycharm": {
     "name": "#%%\n",
     "is_executing": false
    }
   }
  },
  {
   "cell_type": "code",
   "execution_count": 80,
   "outputs": [],
   "source": [
    "def generate_by_pro(text_corpus, length=20):\n",
    "    return ''.join(random.sample(text_corpus, length))"
   ],
   "metadata": {
    "collapsed": false,
    "pycharm": {
     "name": "#%%\n",
     "is_executing": false
    }
   }
  },
  {
   "cell_type": "code",
   "execution_count": 81,
   "outputs": [
    {
     "data": {
      "text/plain": "'新机飞n从级公1等设民１母有面利作资超格'"
     },
     "metadata": {},
     "output_type": "execute_result",
     "execution_count": 81
    }
   ],
   "source": [
    "generate_by_pro(FILE)"
   ],
   "metadata": {
    "collapsed": false,
    "pycharm": {
     "name": "#%%\n",
     "is_executing": false
    }
   }
  },
  {
   "cell_type": "code",
   "execution_count": 82,
   "outputs": [],
   "source": [
    "import jieba\n",
    "\n"
   ],
   "metadata": {
    "collapsed": false,
    "pycharm": {
     "name": "#%%\n",
     "is_executing": false
    }
   }
  },
  {
   "cell_type": "code",
   "execution_count": 83,
   "outputs": [],
   "source": [
    "max_length = 10000000\n",
    "sub_file = FILE[:max_length]"
   ],
   "metadata": {
    "collapsed": false,
    "pycharm": {
     "name": "#%%\n",
     "is_executing": false
    }
   }
  },
  {
   "cell_type": "code",
   "execution_count": 84,
   "outputs": [],
   "source": [
    "def cut(string):\n",
    "    return list(jieba.cut(string))"
   ],
   "metadata": {
    "collapsed": false,
    "pycharm": {
     "name": "#%%\n",
     "is_executing": false
    }
   }
  },
  {
   "cell_type": "code",
   "execution_count": 85,
   "outputs": [],
   "source": [
    "TOKENS = cut(sub_file)"
   ],
   "metadata": {
    "collapsed": false,
    "pycharm": {
     "name": "#%%\n",
     "is_executing": false
    }
   }
  },
  {
   "cell_type": "code",
   "execution_count": 86,
   "outputs": [
    {
     "data": {
      "text/plain": "5255953"
     },
     "metadata": {},
     "output_type": "execute_result",
     "execution_count": 86
    }
   ],
   "source": [
    "len(TOKENS)"
   ],
   "metadata": {
    "collapsed": false,
    "pycharm": {
     "name": "#%%\n",
     "is_executing": false
    }
   }
  },
  {
   "cell_type": "code",
   "execution_count": 87,
   "outputs": [
    {
     "data": {
      "text/plain": "['此外', '自', '本周', '6', '月', '12', '日起', '除', '小米', '手机']"
     },
     "metadata": {},
     "output_type": "execute_result",
     "execution_count": 87
    }
   ],
   "source": [
    "TOKENS[:10]"
   ],
   "metadata": {
    "collapsed": false,
    "pycharm": {
     "name": "#%%\n",
     "is_executing": false
    }
   }
  },
  {
   "cell_type": "code",
   "execution_count": 88,
   "outputs": [],
   "source": [
    "from collections import Counter"
   ],
   "metadata": {
    "collapsed": false,
    "pycharm": {
     "name": "#%%\n",
     "is_executing": false
    }
   }
  },
  {
   "cell_type": "code",
   "execution_count": 89,
   "outputs": [],
   "source": [
    "%matplotlib inline"
   ],
   "metadata": {
    "collapsed": false,
    "pycharm": {
     "name": "#%%\n",
     "is_executing": false
    }
   }
  },
  {
   "cell_type": "code",
   "execution_count": 90,
   "outputs": [],
   "source": [
    "words_count = Counter(TOKENS)\n",
    "\n"
   ],
   "metadata": {
    "collapsed": false,
    "pycharm": {
     "name": "#%%\n",
     "is_executing": false
    }
   }
  },
  {
   "cell_type": "code",
   "execution_count": 91,
   "outputs": [
    {
     "data": {
      "text/plain": "[('的', 241885),\n ('在', 70718),\n ('了', 46055),\n ('和', 42087),\n ('n', 40640),\n ('是', 38388),\n ('月', 36886),\n ('日', 28718),\n ('年', 27118),\n ('也', 19725),\n ('为', 19350),\n ('将', 19270),\n ('\\n', 19261),\n ('等', 19120),\n ('有', 18437),\n ('与', 17838),\n ('中', 17764),\n ('对', 17487),\n ('中国', 17037),\n ('新华社', 14988)]"
     },
     "metadata": {},
     "output_type": "execute_result",
     "execution_count": 91
    }
   ],
   "source": [
    "words_count.most_common(20)"
   ],
   "metadata": {
    "collapsed": false,
    "pycharm": {
     "name": "#%%\n",
     "is_executing": false
    }
   }
  },
  {
   "cell_type": "code",
   "execution_count": 92,
   "outputs": [],
   "source": [
    "words_with_fre = [f for w, f in words_count.most_common()]"
   ],
   "metadata": {
    "collapsed": false,
    "pycharm": {
     "name": "#%%\n",
     "is_executing": false
    }
   }
  },
  {
   "cell_type": "code",
   "execution_count": 93,
   "outputs": [],
   "source": [
    "import matplotlib.pyplot as plt"
   ],
   "metadata": {
    "collapsed": false,
    "pycharm": {
     "name": "#%%\n",
     "is_executing": false
    }
   }
  },
  {
   "cell_type": "code",
   "execution_count": 94,
   "outputs": [
    {
     "data": {
      "text/plain": "[241885, 70718, 46055, 42087, 40640, 38388, 36886, 28718, 27118, 19725]"
     },
     "metadata": {},
     "output_type": "execute_result",
     "execution_count": 94
    }
   ],
   "source": [
    "words_with_fre[:10]"
   ],
   "metadata": {
    "collapsed": false,
    "pycharm": {
     "name": "#%%\n",
     "is_executing": false
    }
   }
  },
  {
   "cell_type": "code",
   "execution_count": 95,
   "outputs": [],
   "source": [
    "import numpy as np"
   ],
   "metadata": {
    "collapsed": false,
    "pycharm": {
     "name": "#%%\n",
     "is_executing": false
    }
   }
  },
  {
   "cell_type": "code",
   "execution_count": 96,
   "outputs": [
    {
     "name": "stderr",
     "text": [
      "/Users/apple/anaconda3/envs/AI_learn/lib/python3.6/site-packages/ipykernel_launcher.py:2: RuntimeWarning: divide by zero encountered in log\n  \n"
     ],
     "output_type": "stream"
    },
    {
     "data": {
      "text/plain": "[<matplotlib.lines.Line2D at 0x1127a2128>]"
     },
     "metadata": {},
     "output_type": "execute_result",
     "execution_count": 96
    },
    {
     "data": {
      "text/plain": "<matplotlib.figure.Figure at 0x10f9dc9b0>",
      "image/png": "[encoded data removed]"
     },
     "metadata": {},
     "output_type": "display_data"
    }
   ],
   "source": [
    "plt.plot(np.log(np.log(words_with_fre)))"
   ],
   "metadata": {
    "collapsed": false,
    "pycharm": {
     "name": "#%%\n",
     "is_executing": false
    }
   }
  },
  {
   "cell_type": "code",
   "execution_count": 97,
   "outputs": [
    {
     "data": {
      "text/plain": "['时间',\n '是',\n '让',\n '人触',\n '不及',\n '防',\n '的',\n '东西',\n ',',\n '\\n',\n '晴时',\n '有',\n '风阴时',\n '有',\n '雨',\n '，',\n '\\n',\n '争',\n '不过',\n '朝夕',\n '又',\n '念',\n '着',\n '往昔',\n '。',\n '\\n']"
     },
     "metadata": {},
     "output_type": "execute_result",
     "execution_count": 97
    }
   ],
   "source": [
    "list(jieba.cut(\"时间是让人触不及防的东西,\\n晴时有风阴时有雨，\\n争不过朝夕又念着往昔。\\n\"))\n"
   ],
   "metadata": {
    "collapsed": false,
    "pycharm": {
     "name": "#%%\n",
     "is_executing": false
    }
   }
  },
  {
   "cell_type": "code",
   "execution_count": 98,
   "outputs": [],
   "source": [
    "_2_gram_words = [\n",
    "    TOKENS[i] + TOKENS[i+1] for i in range(len(TOKENS)-1) if '\\n' not in TOKENS[i]\n",
    "]"
   ],
   "metadata": {
    "collapsed": false,
    "pycharm": {
     "name": "#%%\n",
     "is_executing": false
    }
   }
  },
  {
   "cell_type": "code",
   "execution_count": 99,
   "outputs": [
    {
     "data": {
      "text/plain": "['此外自', '自本周', '本周6', '6月', '月12', '12日起', '日起除', '除小米', '小米手机', '手机6']"
     },
     "metadata": {},
     "output_type": "execute_result",
     "execution_count": 99
    }
   ],
   "source": [
    "_2_gram_words[:10]"
   ],
   "metadata": {
    "collapsed": false,
    "pycharm": {
     "name": "#%%\n",
     "is_executing": false
    }
   }
  },
  {
   "cell_type": "code",
   "execution_count": 100,
   "outputs": [
    {
     "data": {
      "text/plain": "5255953"
     },
     "metadata": {},
     "output_type": "execute_result",
     "execution_count": 100
    }
   ],
   "source": [
    "len(TOKENS)\n",
    "\n"
   ],
   "metadata": {
    "collapsed": false,
    "pycharm": {
     "name": "#%%\n",
     "is_executing": false
    }
   }
  },
  {
   "cell_type": "code",
   "execution_count": 101,
   "outputs": [],
   "source": [
    "_2_gram_word_counts = Counter(_2_gram_words)"
   ],
   "metadata": {
    "collapsed": false,
    "pycharm": {
     "name": "#%%\n",
     "is_executing": false
    }
   }
  },
  {
   "cell_type": "code",
   "execution_count": 102,
   "outputs": [
    {
     "data": {
      "text/plain": "1"
     },
     "metadata": {},
     "output_type": "execute_result",
     "execution_count": 102
    }
   ],
   "source": [
    "words_count.most_common()[-1][-1]"
   ],
   "metadata": {
    "collapsed": false,
    "pycharm": {
     "name": "#%%\n",
     "is_executing": false
    }
   }
  },
  {
   "cell_type": "code",
   "execution_count": 103,
   "outputs": [
    {
     "data": {
      "text/plain": "1"
     },
     "metadata": {},
     "output_type": "execute_result",
     "execution_count": 103
    }
   ],
   "source": [
    "words_count.most_common()[-1][-1]"
   ],
   "metadata": {
    "collapsed": false,
    "pycharm": {
     "name": "#%%\n",
     "is_executing": false
    }
   }
  },
  {
   "cell_type": "code",
   "execution_count": 104,
   "outputs": [
    {
     "data": {
      "text/plain": "[('斯市', 1),\n ('内卡', 1),\n ('张军辉', 1),\n ('中德关系', 1),\n ('及青', 1),\n ('训营', 1),\n ('脱不开', 1),\n ('施特尔', 1),\n ('本尼迪克', 1),\n ('克认', 1)]"
     },
     "metadata": {},
     "output_type": "execute_result",
     "execution_count": 104
    }
   ],
   "source": [
    "words_count.most_common()[-10:]"
   ],
   "metadata": {
    "collapsed": false,
    "pycharm": {
     "name": "#%%\n",
     "is_executing": false
    }
   }
  },
  {
   "cell_type": "code",
   "execution_count": 105,
   "outputs": [
    {
     "data": {
      "text/plain": "<generator object Tokenizer.cut at 0x133f47938>"
     },
     "metadata": {},
     "output_type": "execute_result",
     "execution_count": 105
    }
   ],
   "source": [
    "jieba.cut(\"时间是让人触不及防的东西,\\n晴时有风阴时有雨，\\n争不过朝夕又念着往昔。\\n\")"
   ],
   "metadata": {
    "collapsed": false,
    "pycharm": {
     "name": "#%%\n",
     "is_executing": false
    }
   }
  },
  {
   "cell_type": "code",
   "execution_count": 106,
   "outputs": [
    {
     "data": {
      "text/plain": "collections.Counter"
     },
     "metadata": {},
     "output_type": "execute_result",
     "execution_count": 106
    }
   ],
   "source": [
    "type(words_count)"
   ],
   "metadata": {
    "collapsed": false,
    "pycharm": {
     "name": "#%%\n",
     "is_executing": false
    }
   }
  },
  {
   "cell_type": "code",
   "execution_count": 107,
   "outputs": [
    {
     "data": {
      "text/plain": "Counter({'此外自': 2,\n         '自本周': 2,\n         '本周6': 3,\n         '6月': 8829,\n         '月12': 475,\n         '12日起': 3,\n         '日起除': 1,\n         '除小米': 1,\n         '小米手机': 4,\n         '手机6': 1,\n         '6等': 1,\n         '等15': 22,\n         '15款': 5,\n         '款机型': 1,\n         '机型外': 1,\n         '外其余': 17,\n         '其余机型': 1,\n         '机型已': 1,\n         '已暂停': 5,\n         '暂停更新': 1,\n         '更新发布': 1,\n         '发布含': 1,\n         '含开发': 1,\n         '开发版': 1,\n         '版体验版': 1,\n         '体验版内测': 1,\n         '内测稳定版': 1,\n         '稳定版暂不受': 1,\n         '暂不受影响': 1,\n         '影响以': 8,\n         '以确保': 30,\n         '确保工程师': 1,\n         '工程师可以': 1,\n         '可以集中': 1,\n         '集中全部': 1,\n         '全部精力': 2,\n         '精力进行': 1,\n         '进行系统优化': 1,\n         '系统优化工作': 1,\n         '工作有人': 1,\n         '有人猜测': 2,\n         '猜测这': 2,\n         '这也': 652,\n         '也是': 2666,\n         '是将': 52,\n         '将精力': 5,\n         '精力主要': 1,\n         '主要用到': 1,\n         '用到MIUI9': 1,\n         'MIUI9的': 2,\n         '的研发': 167,\n         '研发之中': 1,\n         '之中MIUI8': 1,\n         'MIUI8去年': 1,\n         '去年5': 36,\n         '5月': 2268,\n         '月发布': 34,\n         '发布距今已有': 1,\n         '距今已有一年': 1,\n         '一年有余': 2,\n         '有余也': 1,\n         '是时候': 17,\n         '时候更新换代': 1,\n         '更新换代了': 1,\n         '了当然': 9,\n         '当然关于': 1,\n         '关于MIUI9': 1,\n         '的确切': 6,\n         '确切信息': 2,\n         '信息我们': 5,\n         '我们还是': 15,\n         '还是等待': 1,\n         '等待官方消息': 1,\n         '官方消息\\n': 1,\n         '骁龙835': 16,\n         '835作为': 2,\n         '作为唯一': 9,\n         '唯一通过': 2,\n         '通过Windows10': 1,\n         'Windows10桌面': 2,\n         '桌面平台': 3,\n         '平台认证': 1,\n         '认证的': 23,\n         '的ARM': 1,\n         'ARM处理器': 1,\n         '处理器高通': 1,\n         '高通强调': 1,\n         '强调不会': 1,\n         '不会因为': 21,\n         '因为只': 1,\n         '只考虑': 8,\n         '考虑性能': 1,\n         '性能而': 1,\n         '而去': 20,\n         '去屏蔽掉': 1,\n         '屏蔽掉小': 1,\n         '小核心': 3,\n         '核心相反': 1,\n         '相反他们': 4,\n         '他们正': 10,\n         '正联手': 1,\n         '联手微软': 1,\n         '微软找到': 1,\n         '找到一种': 3,\n         '一种适合': 1,\n         '适合桌面': 1,\n         '平台的': 200,\n         '的兼顾': 1,\n         '兼顾性能': 1,\n         '性能和': 10,\n         '和功耗': 2,\n         '功耗的': 4,\n         '的完美': 26,\n         '完美方案': 1,\n         '方案报道': 1,\n         '报道称': 777,\n         '称微软': 2,\n         '微软已经': 2,\n         '已经拿到': 4,\n         '拿到了': 85,\n         '了一些': 209,\n         '一些新': 30,\n         '新的': 1456,\n         '的源码': 1,\n         '源码以便': 1,\n         '以便Windows10': 1,\n         'Windows10更好': 1,\n         '更好地': 306,\n         '地理解': 15,\n         '理解biglittle': 1,\n         'biglittle架构': 1,\n         '架构资料': 1,\n         '资料显示': 130,\n         '显示骁龙': 1,\n         '作为一款': 8,\n         '一款集成': 1,\n         '集成了': 5,\n         '了CPUGPU': 1,\n         'CPUGPU基带': 1,\n         '基带蓝牙': 3,\n         '蓝牙WiFi': 1,\n         'WiFi的': 4,\n         '的SoC': 2,\n         'SoC比': 1,\n         '比传统': 12,\n         '传统的': 277,\n         '的Wintel': 2,\n         'Wintel方案': 1,\n         '方案可以': 1,\n         '可以节省': 4,\n         '节省至少': 1,\n         '至少30': 6,\n         '30的': 59,\n         '的PCB': 1,\n         'PCB空间': 1,\n         '空间按计划': 1,\n         '按计划今年': 1,\n         '今年Q4': 1,\n         'Q4华硕': 1,\n         '华硕惠普': 2,\n         '惠普联想': 1,\n         '联想将': 3,\n         '将首发': 3,\n         '首发骁龙': 2,\n         '骁龙835Win10': 1,\n         '835Win10电脑': 1,\n         '电脑预计': 1,\n         '预计均': 2,\n         '均是': 59,\n         '是二合一': 1,\n         '二合一形态': 1,\n         '形态的': 12,\n         '的产品': 386,\n         '产品当然': 2,\n         '当然高通': 1,\n         '高通骁龙': 13,\n         '骁龙只是': 1,\n         '只是个': 16,\n         '个开始': 3,\n         '开始未来': 3,\n         '未来也许': 2,\n         '也许还': 4,\n         '还能': 310,\n         '能见到': 7,\n         '见到三星': 1,\n         '三星Exynos': 1,\n         'Exynos联发科': 1,\n         '联发科华为': 2,\n         '华为麒麟': 1,\n         '麒麟小米': 1,\n         '小米澎湃': 1,\n         '澎湃等': 1,\n         '等进入': 3,\n         '进入Windows10': 1,\n         '平台\\n': 7,\n         '此前的': 100,\n         '的一加': 1,\n         '一加3T': 1,\n         '3T搭载': 1,\n         '搭载的': 22,\n         '的是': 2667,\n         '是3400mAh': 1,\n         '3400mAh电池': 1,\n         '电池DashCharge': 1,\n         'DashCharge快充': 1,\n         '快充规格': 1,\n         '规格为': 2,\n         '为5V4A': 1,\n         '5V4A至于': 1,\n         '至于电池': 1,\n         '电池缩水': 1,\n         '缩水可能': 1,\n         '可能与': 42,\n         '与刘作': 1,\n         '刘作虎': 3,\n         '虎所说': 1,\n         '所说一加': 1,\n         '一加手机': 4,\n         '手机5': 5,\n         '5要': 1,\n         '要做': 121,\n         '做市面': 1,\n         '市面最': 1,\n         '最轻薄': 2,\n         '轻薄大屏': 1,\n         '大屏旗舰': 1,\n         '旗舰的': 2,\n         '的设定': 14,\n         '设定有关': 1,\n         '有关按照': 2,\n         '按照目前': 13,\n         '目前掌握': 9,\n         '掌握的': 45,\n         '的资料': 46,\n         '资料一加': 1,\n         '5拥有': 2,\n         '拥有55': 1,\n         '55寸': 4,\n         '寸1080P': 1,\n         '1080P三星': 1,\n         '三星AMOLED': 1,\n         'AMOLED显示屏': 1,\n         '显示屏6G8GBRAM64GB128GBROM': 1,\n         '6G8GBRAM64GB128GBROM双': 1,\n         '双1600': 1,\n         '1600万': 6,\n         '万摄像头': 1,\n         '摄像头备货': 1,\n         '备货量': 1,\n         '量惊喜': 1,\n         '惊喜根据': 1,\n         '根据京东': 7,\n         '京东泄露': 1,\n         '泄露的': 9,\n         '的信息': 296,\n         '信息一加': 1,\n         '一加5': 20,\n         '5起': 6,\n         '起售价': 5,\n         '售价是': 4,\n         '是xx99': 1,\n         'xx99元': 1,\n         '元应该': 1,\n         '应该是': 199,\n         '是在': 1156,\n         '在279928992999': 1,\n         '279928992999中': 1,\n         '中的': 1782,\n         '的某个': 13,\n         '某个\\n': 1,\n         '这是6': 16,\n         '月18': 541,\n         '18日': 744,\n         '日在': 3358,\n         '在葡萄牙': 11,\n         '葡萄牙中部': 4,\n         '中部大': 2,\n         '大佩德罗': 2,\n         '佩德罗冈': 2,\n         '冈地区': 2,\n         '地区拍摄': 2,\n         '拍摄的': 574,\n         '的被': 29,\n         '被森林': 2,\n         '森林大火': 3,\n         '大火烧毁': 2,\n         '烧毁的': 3,\n         '的汽车': 115,\n         '汽车新华社': 3,\n         '新华社记者': 2884,\n         '记者张立': 20,\n         '张立云摄': 18,\n         '云摄\\n': 17,\n         '原标题': 920,\n         '标题44': 1,\n         '44岁': 12,\n         '岁女子': 7,\n         '女子跑': 1,\n         '跑深圳': 1,\n         '深圳约会': 3,\n         '约会网友': 3,\n         '网友被': 2,\n         '被拒': 17,\n         '拒暴雨': 1,\n         '暴雨中': 3,\n         '中裸身': 1,\n         '裸身奔走': 1,\n         '奔走深圳': 1,\n         '深圳交警': 5,\n         '交警微博称': 2,\n         '微博称昨日': 1,\n         '昨日清晨': 1,\n         '清晨交警': 2,\n         '交警发现': 2,\n         '发现有': 62,\n         '有一': 32,\n         '一女子': 14,\n         '女子赤裸': 2,\n         '赤裸上身': 4,\n         '上身行走': 2,\n         '行走在': 28,\n         '在南坪': 4,\n         '南坪快速': 6,\n         '快速上': 4,\n         '上期间': 2,\n         '期间还': 19,\n         '还起': 2,\n         '起了': 94,\n         '了轻生': 2,\n         '轻生年头': 2,\n         '年头一辅警': 2,\n         '一辅警发现': 2,\n         '发现后': 17,\n         '后赶紧': 4,\n         '赶紧为': 3,\n         '为其': 147,\n         '其披上': 2,\n         '披上黄衣': 2,\n         '黄衣并': 2,\n         '并一路': 4,\n         '一路劝说': 2,\n         '劝说她': 2,\n         '她那么': 2,\n         '那么事发': 1,\n         '事发时': 32,\n         '时到底': 1,\n         '到底都': 2,\n         '都发生': 14,\n         '发生了': 236,\n         '了些': 23,\n         '些什么': 13,\n         '什么呢': 23,\n         '呢南': 2,\n         '南都': 22,\n         '都记者': 15,\n         '记者带': 6,\n         '带您': 8,\n         '您一起': 4,\n         '一起还原': 1,\n         '还原现场': 2,\n         '现场南': 1,\n         '记者在': 325,\n         '在龙岗': 1,\n         '龙岗大队': 2,\n         '大队坂田': 2,\n         '坂田中队': 2,\n         '中队见到': 2,\n         '见到了': 48,\n         '了辅警': 2,\n         '辅警刘青': 2,\n         '刘青发现': 2,\n         '发现女生': 2,\n         '女生的': 11,\n         '的辅警': 2,\n         '辅警一位': 2,\n         '一位外表': 3,\n         '外表高大': 2,\n         '高大帅气': 2,\n         '帅气说话': 2,\n         '说话略带': 2,\n         '略带些': 2,\n         '些腼腆': 2,\n         '腼腆的': 7,\n         '的90': 34,\n         '90后': 75,\n         '后青年': 2,\n         '青年刘青': 2,\n         '刘青介绍': 2,\n         '介绍6': 8,\n         '月16': 527,\n         '16日': 580,\n         '日早上': 42,\n         '早上7': 20,\n         '7时': 51,\n         '时36': 3,\n         '36分': 4,\n         '分他': 10,\n         '他正在': 15,\n         '正在环城': 2,\n         '环城南路': 4,\n         '南路附近': 3,\n         '附近值勤': 2,\n         '值勤接到': 2,\n         '接到中队': 2,\n         '中队关于': 2,\n         '关于一位': 2,\n         '一位女子': 4,\n         '女子裸身': 2,\n         '裸身进入': 2,\n         '进入机动车': 2,\n         '机动车可能': 2,\n         '可能有': 66,\n         '有危险': 12,\n         '危险的': 65,\n         '的警情': 3,\n         '警情随后': 2,\n         '随后骑着': 2,\n         '骑着小': 2,\n         '小铁骑': 4,\n         '铁骑开始': 2,\n         '开始沿路': 2,\n         '沿路寻找': 2,\n         '寻找大概': 2,\n         '大概花': 2,\n         '花了': 94,\n         '了十多分钟': 3,\n         '十多分钟在': 2,\n         '南坪大道': 2,\n         '大道坂田': 2,\n         '坂田出口': 2,\n         '出口往': 2,\n         '往龙岗': 2,\n         '龙岗方向': 2,\n         '方向的': 47,\n         '的逆行': 2,\n         '逆行辅道': 2,\n         '辅道上': 2,\n         '上发现': 16,\n         '发现该': 30,\n         '该女子': 39,\n         '女子女子': 2,\n         '女子身上': 4,\n         '身上一丝不挂': 2,\n         '一丝不挂地逆': 2,\n         '地逆车流': 2,\n         '车流而': 2,\n         '而行时': 2,\n         '行时走时': 2,\n         '走时停时': 2,\n         '停时坐时': 2,\n         '坐时躺': 2,\n         '躺险象环生': 2,\n         '险象环生刘青停': 2,\n         '刘青停好': 2,\n         '好小': 3,\n         '铁骑和': 2,\n         '和另外': 8,\n         '另外一名': 7,\n         '一名巡防': 2,\n         '巡防员': 6,\n         '员追': 2,\n         '追了': 8,\n         '了上去': 10,\n         '上去发现': 2,\n         '发现女子': 4,\n         '女子的': 17,\n         '的情绪': 78,\n         '情绪很': 4,\n         '很低落': 2,\n         '低落话': 2,\n         '话不': 12,\n         '不多': 75,\n         '多刘青': 2,\n         '刘青尝试': 2,\n         '尝试和': 6,\n         '和女子': 4,\n         '女子交流': 2,\n         '交流劝说': 2,\n         '劝说女子': 2,\n         '女子离开': 2,\n         '离开可': 2,\n         '可女子': 2,\n         '女子并': 10,\n         '并不': 837,\n         '不愿意': 142,\n         '愿意接受': 16,\n         '接受继续': 2,\n         '继续缓慢': 2,\n         '缓慢地往': 2,\n         '地往南坪': 2,\n         '南坪快速路': 4,\n         '快速路的': 3,\n         '的主干道': 3,\n         '主干道上': 2,\n         '上走': 26,\n         '走去': 10,\n         '去此时': 2,\n         '此时路边': 2,\n         '路边上': 3,\n         '上已经': 32,\n         '已经聚集': 4,\n         '聚集了': 46,\n         '了很': 96,\n         '很市民': 2,\n         '市民围观': 2,\n         '围观为了': 2,\n         '为了不': 26,\n         '不刺激': 2,\n         '刺激女子': 2,\n         '情绪刘青': 2,\n         '刘青和': 4,\n         '和巡防': 5,\n         '员一边': 2,\n         '一边盯': 2,\n         '盯着': 45,\n         '着女子': 2,\n         '女子一边': 2,\n         '一边驱赶': 2,\n         '驱赶着': 2,\n         '着围观': 2,\n         '围观的': 12,\n         '的群众': 37,\n         '群众现场': 2,\n         '现场还原': 3,\n         '还原从': 2,\n         '从警方': 8,\n         '警方提供': 10,\n         '提供的': 284,\n         '的一份': 96,\n         '一份视频': 2,\n         '视频了解': 2,\n         '了解到': 639,\n         '到16': 14,\n         '时25': 5,\n         '25分': 9,\n         '分女子': 2,\n         '女子出现': 4,\n         '出现在': 299,\n         '在坂雪岗': 2,\n         '坂雪岗大道': 4,\n         '大道与': 5,\n         '与环城': 2,\n         '南路的': 5,\n         '的监控': 36,\n         '监控视频': 40,\n         '视频中': 118,\n         '中此时': 2,\n         '此时女子': 2,\n         '女子还': 4,\n         '还穿着': 5,\n         '穿着白色': 2,\n         '白色的': 34,\n         '的内裤': 6,\n         '内裤正': 2,\n         '正沿着': 2,\n         '沿着坂雪岗': 2,\n         '大道往': 2,\n         '往南坪': 2,\n         '快速的': 29,\n         '的方向': 172,\n         '方向缓慢': 2,\n         '缓慢地': 5,\n         '地走': 20,\n         '走着': 12,\n         '着当时': 2,\n         '当时正值': 10,\n         '正值上班': 2,\n         '上班高峰期': 3,\n         '高峰期十字路口': 2,\n         '十字路口的': 5,\n         '的车流': 5,\n         '车流已经': 2,\n         '已经排起': 2,\n         '排起了': 10,\n         '了长队': 3,\n         '长队当': 2,\n         '当女子': 6,\n         '出现时': 17,\n         '时路上': 2,\n         '路上的': 41,\n         '的市民': 118,\n         '市民纷纷': 14,\n         '纷纷驻足': 2,\n         '驻足观望': 2,\n         '观望不少': 2,\n         '不少车辆': 3,\n         '车辆也': 8,\n         '也放慢': 2,\n         '放慢了': 2,\n         '了速度': 2,\n         '速度但': 2,\n         '但女子': 4,\n         '不为': 32,\n         '为市民': 23,\n         '市民观望': 2,\n         '观望停下': 2,\n         '停下脚步': 14,\n         '脚步依然': 2,\n         '依然缓慢': 3,\n         '缓慢走': 2,\n         '着当': 4,\n         '女子行进': 2,\n         '行进到': 3,\n         '到十字路口': 2,\n         '十字路口中间': 2,\n         '中间时': 2,\n         '时一辆': 7,\n         '一辆大': 5,\n         '大货车': 24,\n         '货车挡住': 2,\n         '挡住了': 12,\n         '了镜头': 3,\n         '镜头但是': 2,\n         '但是当': 14,\n         '女子再次出现': 2,\n         '再次出现镜头': 2,\n         '镜头时': 2,\n         '时可以': 23,\n         '可以发现': 40,\n         '女子已经': 3,\n         '已经没': 8,\n         '没穿': 8,\n         '穿内裤': 2,\n         '内裤了': 2,\n         '了全身': 2,\n         '全身裸露': 2,\n         '裸露继续': 2,\n         '继续朝着': 4,\n         '朝着南坪': 2,\n         '快速方向': 2,\n         '方向走': 7,\n         '去记者': 2,\n         '记者发现': 80,\n         '发现视频': 2,\n         '中女子': 2,\n         '女子周围': 2,\n         '周围并': 2,\n         '并没有': 603,\n         '没有人': 66,\n         '人尾随': 2,\n         '尾随或者': 2,\n         '或者上前': 2,\n         '上前劝止': 2,\n         '劝止的': 2,\n         '市民一': 3,\n         '一大清早': 2,\n         '大清早路上': 2,\n         '路上看到': 6,\n         '看到这样': 11,\n         '这样的': 1204,\n         '的情况': 1352,\n         '情况恐怕': 2,\n         '恐怕大家': 2,\n         '大家都': 190,\n         '都没': 77,\n         '没办法': 58,\n         '办法淡定': 2,\n         '淡定面对': 2,\n         '面对这一': 10,\n         '这一情况': 20,\n         '情况刘青': 2,\n         '刘青表示': 2,\n         '表示一': 2,\n         '一开始': 148,\n         '开始根本': 2,\n         '根本不敢': 6,\n         '不敢看': 2,\n         '看她': 21,\n         '她心里': 4,\n         '心里挺': 7,\n         '挺别扭': 2,\n         '别扭感觉': 2,\n         '感觉很': 29,\n         '很尴尬': 9,\n         '尴尬但': 3,\n         '但当': 39,\n         '当刘青': 2,\n         '刘青跟随': 2,\n         '跟随女子': 2,\n         '女子上': 2,\n         '上了': 243,\n         '了南坪': 2,\n         '快速路主干道': 2,\n         '主干道时': 2,\n         '时女子': 2,\n         '女子作出': 2,\n         '作出了': 105,\n         '了让': 37,\n         '让人': 485,\n         '人意想不到': 4,\n         '意想不到的': 21,\n         '的举动': 56,\n         '举动她': 2,\n         '她突然': 7,\n         '突然靠近': 2,\n         '靠近护栏': 2,\n         '护栏要': 2,\n         '要从': 79,\n         '从上面': 3,\n         '上面跳下去': 2,\n         '跳下去刘青': 2,\n         '刘青赶忙': 2,\n         '赶忙冲上去': 2,\n         '冲上去拉住': 2,\n         '拉住了': 2,\n         '了女子': 4,\n         '的手': 64,\n         '手将': 3,\n         '将其': 294,\n         '其控制': 7,\n         '控制住': 17,\n         '住并': 5,\n         '并远离': 4,\n         '远离护栏': 2,\n         '护栏碍于': 2,\n         '碍于女子': 2,\n         '女子没有': 2,\n         '没有穿衣服': 2,\n         '穿衣服刘青递': 2,\n         '刘青递上': 2,\n         '上衣服': 7,\n         '衣服女子': 2,\n         '女子没': 3,\n         '没接受': 2,\n         '接受还': 2,\n         '还把': 36,\n         '把衣服': 3,\n         '衣服扔': 2,\n         '扔到': 20,\n         '到排水沟': 2,\n         '排水沟里': 2,\n         '里继续': 3,\n         '继续往前走': 3,\n         '往前走没': 2,\n         '办法刘青': 2,\n         '刘青只能': 2,\n         '只能紧紧': 2,\n         '紧紧拉': 2,\n         '拉着': 14,\n         '着她': 24,\n         '她的': 501,\n         '的一只': 34,\n         '一只手': 8,\n         '手跟': 2,\n         '跟在': 12,\n         '在后面': 29,\n         '后面刘青': 2,\n         '刘青一路上': 2,\n         '一路上耐心': 2,\n         '耐心地': 10,\n         '地开导': 2,\n         '开导安慰': 2,\n         '安慰她': 8,\n         '她但': 4,\n         '但只': 5,\n         '只听到': 5,\n         '听到她': 4,\n         '她不断': 2,\n         '不断地': 50,\n         '地重复': 3,\n         '重复着': 2,\n         '着一句': 3,\n         '一句话': 125,\n         '话要是': 2,\n         '要是你': 6,\n         '你也': 36,\n         '也遭遇': 12,\n         '遭遇我': 4,\n         '我的': 646,\n         '的事': 281,\n         '事你': 9,\n         '也会': 598,\n         '会这样': 12,\n         '的期间': 6,\n         '期间她': 6,\n         '她还': 69,\n         '还不时': 7,\n         '不时试图': 2,\n         '试图挣脱': 2,\n         '挣脱刘青': 2,\n         '刘青的': 4,\n         '的手要': 4,\n         '手要冲向': 2,\n         '冲向护栏': 2,\n         '护栏往下跳': 2,\n         '往下跳就': 2,\n         '就这样': 76,\n         '这样我': 8,\n         '我被': 17,\n         '被牵': 3,\n         '牵着': 9,\n         '着走': 11,\n         '走了': 115,\n         '了大概': 8,\n         '大概十多分钟': 2,\n         '十多分钟天': 2,\n         '天突然': 2,\n         '突然下起': 2,\n         '下起了': 2,\n         '了大暴雨': 2,\n         '大暴雨雨大': 2,\n         '雨大的': 2,\n         '的连': 9,\n         '连眼睛': 2,\n         '眼睛都': 3,\n         '都睁不开': 2,\n         '睁不开刘青': 2,\n         '刘青继续': 2,\n         '继续说': 3,\n         '说着': 27,\n         '着瞬间': 2,\n         '瞬间他们': 3,\n         '他们就': 47,\n         '就被': 132,\n         '被雨': 2,\n         '雨透': 2,\n         '透了': 3,\n         '了但': 134,\n         '女子依然': 2,\n         '依然不': 4,\n         '接受刘青': 2,\n         '的帮助': 112,\n         '帮助就': 3,\n         '就继续': 10,\n         '继续冒': 2,\n         '冒着': 38,\n         '着大雨': 5,\n         '大雨往前走': 2,\n         '往前走大概': 2,\n         '大概走': 3,\n         '了有': 72,\n         '有四十分钟': 2,\n         '四十分钟吧': 2,\n         '吧女子': 2,\n         '女子突然': 4,\n         '突然停下': 2,\n         '停下来说': 2,\n         '来说我': 8,\n         '我想': 158,\n         '想回家': 5,\n         '回家了': 11,\n         '了然后': 19,\n         '然后女子': 2,\n         '女子也': 5,\n         '也接受': 15,\n         '接受了': 122,\n         '了刘青': 2,\n         '刘青递过来': 2,\n         '递过来的': 6,\n         '的小': 330,\n         '小黄衣': 4,\n         '黄衣就': 2,\n         '就出现': 33,\n         '出现了': 467,\n         '了深圳': 21,\n         '深圳微博上': 2,\n         '微博上的': 4,\n         '的照片': 161,\n         '照片女子': 2,\n         '女子披着': 2,\n         '披着小': 2,\n         '黄衣刘青': 2,\n         '刘青小心翼翼': 2,\n         '小心翼翼地': 12,\n         '地在': 73,\n         '在旁边': 26,\n         '旁边走': 2,\n         '着的': 61,\n         '的场景': 90,\n         '场景从': 2,\n         '从南平': 2,\n         '南平快速': 2,\n         '快速下来': 2,\n         '下来后': 4,\n         '后刘青': 2,\n         '员将': 3,\n         '将女子': 9,\n         '女子带到': 2,\n         '带到了': 20,\n         '了附近': 13,\n         '附近的': 319,\n         '的坂田': 2,\n         '坂田派出所': 2,\n         '派出所那': 2,\n         '那姑娘': 2,\n         '姑娘到底': 2,\n         '到底是': 68,\n         '是遭遇': 3,\n         '遭遇了': 43,\n         '了什么样': 4,\n         '什么样的': 142,\n         '的事情': 335,\n         '事情才': 2,\n         '才会': 188,\n         '会说': 31,\n         '说要是': 3,\n         '这样据': 1,\n         '据警方': 24,\n         '警方透露': 10,\n         '透露该': 10,\n         '女子姓': 4,\n         '姓陈系': 2,\n         '陈系湖北': 2,\n         '湖北人': 8,\n         '人今年': 18,\n         '今年44': 4,\n         '岁据': 3,\n         '据家属': 2,\n         '家属反映': 2,\n         '反映其有': 2,\n         '其有精神病': 2,\n         '精神病史': 3,\n         '史三天': 2,\n         '三天前': 10,\n         '前陈某': 2,\n         '陈某从': 2,\n         '从老家': 12,\n         '老家来': 3,\n         '来深圳': 7,\n         '网友但': 2,\n         '但约会': 2,\n         '约会受挫': 2,\n         '受挫导致': 2,\n         '导致情绪': 5,\n         '情绪异常': 3,\n         '异常女子': 2,\n         '女子遂': 2,\n         '遂产生': 2,\n         '产生轻生': 3,\n         '轻生念头': 4,\n         '念头目前': 2,\n         '目前陈某': 5,\n         '陈某已经': 3,\n         '已经被': 115,\n         '被送往': 62,\n         '送往深圳': 2,\n         '深圳某': 8,\n         '某精神病': 2,\n         '精神病医院': 8,\n         '医院进行': 37,\n         '进行治疗': 13,\n         '治疗大大': 1,\n         '大大君': 1,\n         '君只': 1,\n         '只希望': 9,\n         '希望姑娘': 1,\n         '姑娘能': 1,\n         '能早点': 1,\n         '早点康复': 1,\n         '康复其实': 1,\n         '其实真爱': 1,\n         '真爱的': 2,\n         '的到来': 78,\n         '到来并': 5,\n         '不存在': 181,\n         '存在年龄': 1,\n         '年龄的': 21,\n         '的限制': 125,\n         '限制你们': 1,\n         '你们说': 7,\n         '说呢': 4,\n         '呢因': 1,\n         '因善良': 1,\n         '善良的': 8,\n         '的原因': 468,\n         '原因一众': 1,\n         '一众网友': 2,\n         '网友纷纷': 24,\n         '纷纷为': 7,\n         '为交警': 3,\n         '交警暖': 2,\n         '暖男点': 2,\n         '男点ZAN': 2,\n         'ZAN弓常': 2,\n         '弓常yan': 2,\n         'yan桦': 2,\n         '桦就': 2,\n         '就想': 38,\n         '想问': 8,\n         '问这个': 7,\n         '这个小': 16,\n         '小哥哥': 4,\n         '哥哥有': 2,\n         '有女票': 2,\n         '女票吗': 2,\n         '吗原谅': 2,\n         '原谅我': 4,\n         '我这': 25,\n         '这一辈子': 7,\n         '一辈子浪荡': 2,\n         '浪荡不羁': 2,\n         '不羁爱': 2,\n         '爱萨摩耶': 2,\n         '萨摩耶有': 2,\n         '有什么': 170,\n         '什么过不去': 2,\n         '过不去的': 2,\n         '的要': 112,\n         '要轻生': 2,\n         '轻生嘛': 2,\n         ...})"
     },
     "metadata": {},
     "output_type": "execute_result",
     "execution_count": 107
    }
   ],
   "source": [
    "_2_gram_word_counts"
   ],
   "metadata": {
    "collapsed": false,
    "pycharm": {
     "name": "#%%\n",
     "is_executing": false
    }
   }
  },
  {
   "cell_type": "code",
   "execution_count": 108,
   "outputs": [
    {
     "data": {
      "text/plain": "['此外', '自', '本周', '6', '月', '12', '日起', '除', '小米', '手机']"
     },
     "metadata": {},
     "output_type": "execute_result",
     "execution_count": 108
    }
   ],
   "source": [
    "TOKENS[:10]"
   ],
   "metadata": {
    "collapsed": false,
    "pycharm": {
     "name": "#%%\n",
     "is_executing": false
    }
   }
  },
  {
   "cell_type": "code",
   "execution_count": 109,
   "outputs": [
    {
     "data": {
      "text/plain": "'自本周'"
     },
     "metadata": {},
     "output_type": "execute_result",
     "execution_count": 109
    }
   ],
   "source": [
    "TOKENS[1] + TOKENS[2]\n"
   ],
   "metadata": {
    "collapsed": false,
    "pycharm": {
     "name": "#%%\n",
     "is_executing": false
    }
   }
  },
  {
   "cell_type": "code",
   "execution_count": 110,
   "outputs": [],
   "source": [
    "words_count = Counter(TOKENS)"
   ],
   "metadata": {
    "collapsed": false,
    "pycharm": {
     "name": "#%%\n",
     "is_executing": false
    }
   }
  },
  {
   "cell_type": "code",
   "execution_count": 111,
   "outputs": [],
   "source": [
    "a = words_count.most_common()\n"
   ],
   "metadata": {
    "collapsed": false,
    "pycharm": {
     "name": "#%%\n",
     "is_executing": false
    }
   }
  },
  {
   "cell_type": "code",
   "execution_count": 116,
   "outputs": [
    {
     "data": {
      "text/plain": "[('的', 241885),\n ('在', 70718),\n ('了', 46055),\n ('和', 42087),\n ('n', 40640),\n ('是', 38388),\n ('月', 36886),\n ('日', 28718),\n ('年', 27118),\n ('也', 19725)]"
     },
     "metadata": {},
     "output_type": "execute_result",
     "execution_count": 116
    }
   ],
   "source": [
    "a[:10]\n"
   ],
   "metadata": {
    "collapsed": false,
    "pycharm": {
     "name": "#%%\n",
     "is_executing": false
    }
   }
  },
  {
   "cell_type": "code",
   "execution_count": 115,
   "outputs": [
    {
     "data": {
      "text/plain": "241885"
     },
     "metadata": {},
     "output_type": "execute_result",
     "execution_count": 115
    }
   ],
   "source": [
    "words_count['的']"
   ],
   "metadata": {
    "collapsed": false,
    "pycharm": {
     "name": "#%%\n",
     "is_executing": false
    }
   }
  },
  {
   "cell_type": "code",
   "execution_count": null,
   "outputs": [],
   "source": [
    "\n"
   ],
   "metadata": {
    "collapsed": false,
    "pycharm": {
     "name": "#%%\n"
    }
   }
  }
 ],
 "metadata": {
  "kernelspec": {
   "display_name": "Python 3",
   "language": "python",
   "name": "python3"
  },
  "language_info": {
   "codemirror_mode": {
    "name": "ipython",
    "version": 3
   },
   "file_extension": ".py",
   "mimetype": "text/x-python",
   "name": "python",
   "nbconvert_exporter": "python",
   "pygments_lexer": "ipython3",
   "version": "3.7.3"
  },
  "pycharm": {
   "stem_cell": {
    "cell_type": "raw",
    "source": [],
    "metadata": {
     "collapsed": false
    }
   }
  }
 },
 "nbformat": 4,
 "nbformat_minor": 2
}